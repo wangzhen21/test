{
 "cells": [
  {
   "cell_type": "code",
   "execution_count": 1,
   "metadata": {},
   "outputs": [],
   "source": [
    "import numpy as np\n",
    "import pandas as pd\n",
    "import matplotlib.pyplot as plt\n",
    "import seaborn as sns\n",
    " \n",
    " \n",
    "# 导入数据集\n",
    "train = pd.read_csv('./house-prices-advanced-regression-techniques/train.csv')\n",
    "test = pd.read_csv('./house-prices-advanced-regression-techniques/test.csv')"
   ]
  },
  {
   "cell_type": "code",
   "execution_count": 2,
   "metadata": {
    "scrolled": true
   },
   "outputs": [
    {
     "name": "stderr",
     "output_type": "stream",
     "text": [
      "/work/wangzhen/anaconda3/envs/keras/lib/python3.6/site-packages/ipykernel_launcher.py:2: FutureWarning: Sorting because non-concatenation axis is not aligned. A future version\n",
      "of pandas will change to not sort by default.\n",
      "\n",
      "To accept the future behavior, pass 'sort=False'.\n",
      "\n",
      "To retain the current behavior and silence the warning, pass 'sort=True'.\n",
      "\n",
      "  \n"
     ]
    }
   ],
   "source": [
    "# 将测试集和训练集连接\n",
    "full = pd.concat([train,test],ignore_index=True)\n",
    " \n",
    "# 查看缺失值，并将缺失值的特征由大到小排列。\n",
    "tmp = full.isnull().sum()\n",
    "tmp[tmp>0].sort_values(ascending=False)\n",
    "# 对数值类型的填充\n",
    "full.fillna(full.mean(),inplace=True)\n",
    " \n",
    "# 查看剩余的缺失值\n",
    "tmp = train.isnull().sum()\n",
    "tmp[tmp>0].sort_values(ascending=False)# 对字符类型进行填充 \n",
    "full.fillna('None',inplace=True)\n",
    " \n",
    "tmp = full.isnull().sum()\n",
    "tmp[tmp>0].sort_values(ascending=False)\n",
    "# 去掉Id，SalePrice列\n",
    "full = full.drop(['Id','SalePrice'],axis=1)\n",
    " \n",
    "# 变成one-hot编码\n",
    "full=pd.get_dummies(full).reset_index(drop=True)"
   ]
  },
  {
   "cell_type": "code",
   "execution_count": 3,
   "metadata": {
    "scrolled": true
   },
   "outputs": [
    {
     "name": "stdout",
     "output_type": "stream",
     "text": [
      "(1460, 310)\n",
      "(1460,)\n",
      "(1459, 310)\n"
     ]
    }
   ],
   "source": [
    "from sklearn.linear_model import LinearRegression\n",
    "from sklearn.preprocessing import RobustScaler,StandardScaler\n",
    " \n",
    "# 标准化处理\n",
    "std = StandardScaler()\n",
    "full = std.fit_transform(full)\n",
    " \n",
    "# 引入LinearRegression()模型\n",
    "model = LinearRegression()\n",
    " \n",
    " \n",
    "# 将训练集和测试集分开，\n",
    "n_train = train.shape[0]#行数\n",
    " \n",
    "#划分数据集\n",
    "X = np.array(full[:n_train])##相当于取出X\n",
    "y = np.array(train.SalePrice)#取出训练集的标签\n",
    "\n",
    "test_x = np.array(full[n_train:])#1461行取到最后\n",
    "print(X.shape)\n",
    "print(y.shape)\n",
    "print(test_x.shape)\n",
    " \n",
    "# 训练模型\n",
    "# model.fit(X,y)"
   ]
  },
  {
   "cell_type": "code",
   "execution_count": 4,
   "metadata": {},
   "outputs": [
    {
     "name": "stdout",
     "output_type": "stream",
     "text": [
      "(1241, 310) (219, 310) (1241,) (219,)\n",
      "<class 'numpy.ndarray'>\n"
     ]
    }
   ],
   "source": [
    "#(b)Using least squares,\n",
    "from sklearn.model_selection import train_test_split\n",
    "x_train,x_train_test,y_train,y_train_test = train_test_split(X,y,test_size=0.15,random_state=1)\n",
    "print(x_train.shape,x_train_test.shape,y_train.shape,y_train_test.shape)\n",
    "print(type(x_train))"
   ]
  },
  {
   "cell_type": "code",
   "execution_count": 5,
   "metadata": {},
   "outputs": [],
   "source": [
    "from sklearn.linear_model import Ridge\n",
    "from sklearn.metrics import mean_squared_error\n",
    "model.fit(x_train,y_train)\n",
    "# model.fit(X,y)\n",
    "train_test = model.predict(x_train_test)\n",
    "# 预测\n",
    "saleprice = model.predict(test_x)\n",
    " \n",
    "# 产生要提交的csv文件\n",
    "result=pd.DataFrame({'Id':test.Id, 'SalePrice':saleprice})\n",
    "result.to_csv(\"./house-prices-advanced-regression-techniques/submission.csv\",index=False)\n",
    "\n",
    "def rmse_cv(model,X,y):\n",
    "    rmse = np.sqrt(-cross_val_score(model, X, y, scoring=\"neg_mean_squared_error\", cv=5))\n",
    "    return rmse"
   ]
  },
  {
   "cell_type": "code",
   "execution_count": 6,
   "metadata": {},
   "outputs": [
    {
     "name": "stdout",
     "output_type": "stream",
     "text": [
      "LR mse : 1.1635285013863521e+33\n"
     ]
    }
   ],
   "source": [
    "print('LR mse : {}'.format(mean_squared_error(train_test,y_train_test)))"
   ]
  },
  {
   "cell_type": "code",
   "execution_count": 7,
   "metadata": {},
   "outputs": [
    {
     "name": "stdout",
     "output_type": "stream",
     "text": [
      "LR mse : [2.45149378e+17 1.15458582e+17 4.19777317e+17 1.55799857e+17\n",
      " 9.14583631e+17]\n"
     ]
    }
   ],
   "source": [
    "from sklearn.model_selection import cross_val_score\n",
    "print('LR mse : {}'.format(rmse_cv(model,X,y)))"
   ]
  },
  {
   "cell_type": "code",
   "execution_count": 8,
   "metadata": {},
   "outputs": [
    {
     "name": "stdout",
     "output_type": "stream",
     "text": [
      "855519372.7833714\n",
      "10.0\n",
      "769396403.2690396\n"
     ]
    }
   ],
   "source": [
    "#(c)(d)use l1 l2 regularization\n",
    "from sklearn.linear_model import Ridge\n",
    "model1 = Ridge(alpha=1)\n",
    "model1.fit(x_train,y_train)\n",
    "y_pred = model1.predict(x_train_test)\n",
    "print(mean_squared_error(y_pred,y_train_test))\n",
    "from sklearn.linear_model import RidgeCV\n",
    "model2 = RidgeCV(alphas=[0.001,0.01,0.1,0.5,1,3,5,7,9,10])\n",
    "# model2 = RidgeCV(alphas=[2])\n",
    "model2.fit(x_train,y_train)\n",
    "print(model2.alpha_)\n",
    "y_pred2 = model2.predict(x_train_test)\n",
    "print(mean_squared_error(y_pred2,y_train_test))\n",
    "saleprice = model2.predict(test_x)\n",
    "result=pd.DataFrame({'Id':test.Id, 'SalePrice':saleprice})\n",
    "result.to_csv(\"./house-prices-advanced-regression-techniques/submission.csv\",index=False)"
   ]
  }
 ],
 "metadata": {
  "kernelspec": {
   "display_name": "Python [conda env:keras] *",
   "language": "python",
   "name": "conda-env-keras-py"
  },
  "language_info": {
   "codemirror_mode": {
    "name": "ipython",
    "version": 3
   },
   "file_extension": ".py",
   "mimetype": "text/x-python",
   "name": "python",
   "nbconvert_exporter": "python",
   "pygments_lexer": "ipython3",
   "version": "3.6.12"
  }
 },
 "nbformat": 4,
 "nbformat_minor": 4
}
